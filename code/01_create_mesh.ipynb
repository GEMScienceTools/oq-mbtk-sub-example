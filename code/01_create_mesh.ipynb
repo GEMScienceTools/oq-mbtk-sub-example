{
 "cells": [
  {
   "cell_type": "markdown",
   "metadata": {},
   "source": [
    "# Subduction plots"
   ]
  },
  {
   "cell_type": "code",
   "execution_count": null,
   "metadata": {},
   "outputs": [],
   "source": [
    "import os\n",
    "import numpy\n",
    "from IPython.display import Image\n",
    "from IPython.core.display import HTML \n",
    "from openquake.sub.misc.profile import _read_profiles\n",
    "from openquake.sub.misc.edge import create_from_profiles\n",
    "from openquake.sub.misc.utils import create_inslab_meshes\n",
    "from openquake.sub.quad.msh import create_lower_surface_mesh"
   ]
  },
  {
   "cell_type": "code",
   "execution_count": null,
   "metadata": {},
   "outputs": [],
   "source": [
    "tmp_path = \"./tmp\"\n",
    "if not os.path.exists(tmp_path):\n",
    "    os.mkdir(tmp_path)\n",
    "    os.mkdir(os.path.join(tmp_path, 'vf'))    "
   ]
  },
  {
   "cell_type": "code",
   "execution_count": null,
   "metadata": {},
   "outputs": [],
   "source": [
    "path = \"./data/\"\n",
    "profiles, _ = _read_profiles(path)\n",
    "slab_thickness = 50.\n",
    "sampling = 40\n",
    "idl = False\n",
    "alg = False\n",
    "smsh = create_from_profiles(profiles, sampling, sampling, idl, alg)\n",
    "low_mesh = create_lower_surface_mesh(smsh, 50)"
   ]
  },
  {
   "cell_type": "markdown",
   "metadata": {},
   "source": [
    "## Plotting profiles"
   ]
  },
  {
   "cell_type": "code",
   "execution_count": null,
   "metadata": {},
   "outputs": [],
   "source": [
    "%%bash -s \"$path\" \n",
    "\n",
    "catalogue='./data/model_catalogue_subcatalogues_cat1_zon2_cat1_TR_slab_6.csv'\n",
    "\n",
    "gmt set MAP_FRAME_TYPE = PLAIN\n",
    "gmt set PS_MEDIA = a4\n",
    "\n",
    "ext='-R-82/-73/-7/0/0/100'\n",
    "prj='-Jm1 -Jz-0.01 -p80/10/0'\n",
    "out='./tmp/profiles.ps'\n",
    "\n",
    "DATA=$1'cs*'\n",
    "\n",
    "gmt psbasemap $ext $prj -K -B+n > $out\n",
    "# tail -n+2 $catalogue | gawk -F, '{print $10, $11, $15}' | gmt psxyz $ext $prj -O -K -Su0.1 >> $out\n",
    "\n",
    "for f in $DATA; \n",
    "do \n",
    "    gmt psxyz $f $ext $prj -O -K -Wthinner,green,- >> $out\n",
    "    gmt psxy $f $ext $prj -O -K -Wred >> $out\n",
    "done\n",
    "\n",
    "gmt psbasemap $ext $prj -O -B+n >> $out\n",
    "gmt psconvert $out -A0.5c -P -Tg \n",
    "echo 'done'"
   ]
  },
  {
   "cell_type": "code",
   "execution_count": null,
   "metadata": {},
   "outputs": [],
   "source": [
    "Image(url= \"./tmp/profiles.png\")"
   ]
  },
  {
   "cell_type": "markdown",
   "metadata": {},
   "source": [
    "## Plotting mesh\n",
    "\n",
    "First we create a temporary file containing the edges created starting from the profiles."
   ]
  },
  {
   "cell_type": "code",
   "execution_count": null,
   "metadata": {},
   "outputs": [],
   "source": [
    "def write_mesh(smsh, key):\n",
    "    edges_fname = './tmp/{:s}_edges.xyz'.format(key)\n",
    "    fou = open(edges_fname, 'w')\n",
    "    fou.write('>\\n')\n",
    "    for e in smsh:\n",
    "        for i in numpy.nonzero(numpy.isfinite(e[:,2]))[0]:\n",
    "            fou.write('{:.5f},{:.5f},{:.5f}\\n'.format(e[i,0], e[i,1], e[i,2]))\n",
    "        fou.write('>\\n')\n",
    "    fou.close()\n",
    "\n",
    "    profiles_fname = './tmp/{:s}_profiles.xyz'.format(key)\n",
    "    fou = open(profiles_fname, 'w')\n",
    "    fou.write('>\\n')\n",
    "    last = -1\n",
    "    cont = False\n",
    "    for i in range(len(smsh[0])):\n",
    "        fou.write('>\\n')\n",
    "        for e in smsh:   \n",
    "            if numpy.all(numpy.isfinite(e[i])):\n",
    "                fou.write('{:.5f},{:.5f},{:.5f}\\n'.format(e[i,0], e[i,1], e[i,2]))\n",
    "    fou.write('>\\n')\n",
    "    fou.close()\n",
    "    return edges_fname, profiles_fname\n",
    "\n",
    "def write_poly(smsh, key):\n",
    "    poly_fname = './tmp/{:s}_poly.xyz'.format(key)\n",
    "    fou = open(poly_fname, 'w')\n",
    "    fou.write('>\\n')\n",
    "    for i1 in range(len(smsh)-1):\n",
    "        for i2 in range(len(smsh[0])-1):\n",
    "            if (numpy.all(numpy.isfinite(smsh[i1][i2,:])) and \n",
    "                numpy.all(numpy.isfinite(smsh[i1][i2+1,:])) and\n",
    "                numpy.all(numpy.isfinite(smsh[i1+1][i2,:])) and\n",
    "                numpy.all(numpy.isfinite(smsh[i1+1][i2+1,:]))):\n",
    "                e = smsh[i1]\n",
    "                f = smsh[i1+1]\n",
    "                fou.write('{:.5f},{:.5f},{:.5f}\\n'.format(e[i2,0], e[i2,1], e[i2,2]))\n",
    "                fou.write('{:.5f},{:.5f},{:.5f}\\n'.format(f[i2,0], f[i2,1], f[i2,2]))\n",
    "                fou.write('{:.5f},{:.5f},{:.5f}\\n'.format(f[i2+1,0], f[i2+1,1], f[i2+1,2]))\n",
    "                fou.write('{:.5f},{:.5f},{:.5f}\\n'.format(e[i2+1,0], e[i2+1,1], e[i2+1,2]))\n",
    "                fou.write('{:.5f},{:.5f},{:.5f}\\n'.format(e[i2,0], e[i2,1], e[i2,2]))\n",
    "                fou.write('>\\n')\n",
    "    fou.close()\n",
    "    return poly_fname"
   ]
  },
  {
   "cell_type": "code",
   "execution_count": null,
   "metadata": {},
   "outputs": [],
   "source": [
    "edges_fname, profiles_fname = write_mesh(smsh, 'top')\n",
    "edges_low_fname, profiles_low_fname = write_mesh(low_mesh, 'low')\n",
    "poly_fname = write_poly(smsh, 'poly')\n",
    "poly_low_fname = write_poly(low_mesh, 'poly_low')"
   ]
  },
  {
   "cell_type": "code",
   "execution_count": null,
   "metadata": {},
   "outputs": [],
   "source": [
    "%%bash -s \"$path\" \"$edges_fname\" \"$profiles_fname\" \"$poly_low_fname\" \"$poly_fname\"\n",
    "\n",
    "ext='-R-82/-75/-7/0/0/100'\n",
    "prj='-Jm1 -Jz-0.01 -p80/10/0'\n",
    "out='./tmp/edges.ps'\n",
    "DATA=$1'cs*'\n",
    "\n",
    "gmt psbasemap $ext $prj -K -B+b > $out\n",
    "\n",
    "gmt psxyz $4 $ext $prj -O -K -Wdefault,orange -G240 >> $out\n",
    "gmt psxyz $5 $ext $prj -O -K -Wthinnest,purple -G220 >> $out\n",
    "\n",
    "for f in $DATA; \n",
    "do \n",
    "    gmt psxyz $f $ext $prj -O -K -Wthinner,green,- >> $out\n",
    "done\n",
    "\n",
    "gmt psbasemap $ext $prj -O -B+b >> $out\n",
    "gmt psconvert $out  -A0.5c -P -Tg \n",
    "echo 'done'"
   ]
  },
  {
   "cell_type": "code",
   "execution_count": null,
   "metadata": {},
   "outputs": [],
   "source": [
    "Image(url= \"./tmp/edges.png\")"
   ]
  },
  {
   "cell_type": "markdown",
   "metadata": {},
   "source": [
    "## Plotting virtual faults"
   ]
  },
  {
   "cell_type": "code",
   "execution_count": null,
   "metadata": {},
   "outputs": [],
   "source": [
    "dips = [45, 135]\n",
    "sampling = 20.\n",
    "ohs = create_inslab_meshes(smsh, dips, slab_thickness, sampling)"
   ]
  },
  {
   "cell_type": "code",
   "execution_count": null,
   "metadata": {},
   "outputs": [],
   "source": [
    "for key in ohs:\n",
    "    for i, fault in enumerate(ohs[key]):\n",
    "        fou = open(os.path.join(tmp_path, 'vf', 'vf_{:d}_{:03d}.txt'.format(key, i)), 'w')\n",
    "        for pro in fault:\n",
    "            fou.write('>\\n')\n",
    "            for p in pro:\n",
    "                fou.write('{:.5f},{:.5f},{:.5f}\\n'.format(p.longitude, p.latitude, p.depth))\n",
    "        fou.write('>\\n')\n",
    "        fou.close()"
   ]
  },
  {
   "cell_type": "code",
   "execution_count": null,
   "metadata": {},
   "outputs": [],
   "source": [
    "sampling = 15.\n",
    "tmp_mesh = create_from_profiles(ohs[135][4], sampling, sampling, idl, alg)\n",
    "vf_edges_fname, vf_profiles_fname = write_mesh(tmp_mesh, 'vf')\n",
    "vf_poly_fname = write_poly(tmp_mesh, 'vf_poly')"
   ]
  },
  {
   "cell_type": "code",
   "execution_count": null,
   "metadata": {},
   "outputs": [],
   "source": [
    "%%bash -s \"$path\" \"$vf_edges_fname\"  \"$vf_profiles_fname\" \"$poly_low_fname\"  \"$poly_fname\" \"$vf_poly_fname\"\n",
    "#          1       2                 3                    4                  5                     \n",
    "\n",
    "ext='-R-82/-73/-7/0/0/150'\n",
    "prj='-Jm1 -Jz-0.01 -p80/10/0'\n",
    "out='./tmp/virtual_faults0.ps'\n",
    "DATA=$1'cs*'\n",
    "\n",
    "gmt psbasemap $ext $prj -K -B+b > $out\n",
    "\n",
    "gmt psxyz $4 $ext $prj -O -K -Wdefault,orange -G240 >> $out\n",
    "gmt psxyz $5 $ext $prj -O -K -Wthinnest,purple -G220 >> $out\n",
    "gmt psxyz $6 $ext $prj -O -K -Wthinnest,red -G200 >> $out\n",
    "gmt psxyz $4 $ext $prj -O -K -Wdefault,orange,. >> $out\n",
    "gmt psxyz $5 $ext $prj -O -K -Wthinnest,purple >> $out\n",
    "\n",
    "#gmt psxyz ./tmp/vf/vf_45_004.txt $ext $prj -O -K -Wthinner,blue >> $out\n",
    "gmt psxyz ./tmp/vf/vf_135_004.txt $ext $prj -O -K -Wthinner,red >> $out\n",
    "\n",
    "#gmt psxyz $4 $ext $prj -O -K -Wthinnest,blue >> $out\n",
    "#gmt psxyz $5 $ext $prj -O -K -Wthinnest,blue >> $out\n",
    "\n",
    "#for f in $DATA; \n",
    "#do \n",
    "#    gmt psxyz $f $ext $prj -O -K -Wthinner,green,- >> $out\n",
    "#done\n",
    "\n",
    "gmt psbasemap $ext $prj -O -B+n >> $out\n",
    "gmt psconvert $out -A0.5c -P -Tg \n",
    "echo 'done'"
   ]
  },
  {
   "cell_type": "code",
   "execution_count": null,
   "metadata": {},
   "outputs": [],
   "source": [
    "Image(url= \"./tmp/virtual_faults0.png\")"
   ]
  },
  {
   "cell_type": "code",
   "execution_count": null,
   "metadata": {},
   "outputs": [],
   "source": [
    "%%bash -s \"$path\" \"$vf_edges_fname\"  \"$vf_profiles_fname\" \"$poly_low_fname\"  \"$poly_fname\" \"$vf_poly_fname\"\n",
    "#          1       2                 3                    4                  5                     \n",
    "\n",
    "ext='-R-82/-73/-7/0/0/150'\n",
    "prj='-Jm1 -Jz-0.01 -p3200/10/0'\n",
    "out='./tmp/virtual_faults1.ps'\n",
    "DATA=$1'cs*'\n",
    "\n",
    "gmt psbasemap $ext $prj -K -B+b > $out\n",
    "\n",
    "gmt psxyz $4 $ext $prj -O -K -Wdefault,orange -G240 >> $out\n",
    "gmt psxyz $5 $ext $prj -O -K -Wthinnest,purple -G220 >> $out\n",
    "gmt psxyz $6 $ext $prj -O -K -Wthinnest,red -G200 >> $out\n",
    "gmt psxyz $5 $ext $prj -O -K -Wthinnest,purple >> $out\n",
    "\n",
    "#gmt psxyz ./tmp/vf/vf_45_004.txt $ext $prj -O -K -Wthinner,blue >> $out\n",
    "gmt psxyz ./tmp/vf/vf_135_004.txt $ext $prj -O -K -Wthinner,red >> $out\n",
    "\n",
    "#gmt psxyz $4 $ext $prj -O -K -Wthinnest,blue >> $out\n",
    "#gmt psxyz $5 $ext $prj -O -K -Wthinnest,blue >> $out\n",
    "\n",
    "#for f in $DATA; \n",
    "#do \n",
    "#    gmt psxyz $f $ext $prj -O -K -Wthinner,green,- >> $out\n",
    "#done\n",
    "\n",
    "gmt psbasemap $ext $prj -O -B+n >> $out\n",
    "gmt psconvert $out -A0.5c -P -Tg \n",
    "echo 'done'"
   ]
  },
  {
   "cell_type": "code",
   "execution_count": null,
   "metadata": {},
   "outputs": [],
   "source": [
    "I23mage(url= \"./tmp/virtual_faults1.png\")"
   ]
  },
  {
   "cell_type": "code",
   "execution_count": null,
   "metadata": {},
   "outputs": [],
   "source": []
  },
  {
   "cell_type": "code",
   "execution_count": null,
   "metadata": {},
   "outputs": [],
   "source": []
  }
 ],
 "metadata": {
  "kernelspec": {
   "display_name": "Python 3",
   "language": "python",
   "name": "python3"
  },
  "language_info": {
   "codemirror_mode": {
    "name": "ipython",
    "version": 3
   },
   "file_extension": ".py",
   "mimetype": "text/x-python",
   "name": "python",
   "nbconvert_exporter": "python",
   "pygments_lexer": "ipython3",
   "version": "3.8.2"
  }
 },
 "nbformat": 4,
 "nbformat_minor": 4
}
