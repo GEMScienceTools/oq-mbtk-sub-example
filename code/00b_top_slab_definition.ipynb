{
 "cells": [
  {
   "cell_type": "markdown",
   "metadata": {},
   "source": [
    "# Datasets and cross-sections preparation"
   ]
  },
  {
   "cell_type": "code",
   "execution_count": 1,
   "metadata": {},
   "outputs": [],
   "source": [
    "import os\n",
    "import sys\n",
    "import openquake.sub as sub\n",
    "\n",
    "# Get the path of the mbtk subduction module\n",
    "path = sub.__path__[0]"
   ]
  },
  {
   "cell_type": "markdown",
   "metadata": {},
   "source": [
    "## 1. Pickle the catalogue\n",
    "First we pickle the catalogue, that is, we create a compact representation of this dataset that can be read quickly by python."
   ]
  },
  {
   "cell_type": "code",
   "execution_count": 2,
   "metadata": {},
   "outputs": [],
   "source": [
    "!python $path/pickle_catalogue.py ./../data/catalogue/wpg_catalogue_sumatra.csv\n",
    "!mv catalogue_ext.p ./../data/catalogue/wpg_catalogue_sumatra.p\n",
    "!rm catalogue_ori.p"
   ]
  },
  {
   "cell_type": "markdown",
   "metadata": {},
   "source": [
    "## 2. Create cross-sections"
   ]
  },
  {
   "cell_type": "code",
   "execution_count": 3,
   "metadata": {},
   "outputs": [
    {
     "name": "stdout",
     "output_type": "stream",
     "text": [
      "104.248585 -8.110244 400.000000 400.000000 16.808520 0 ./../ini/create_profiles.txt\n",
      "103.421644 -7.772352 400.000000 400.000000 39.982619 1 ./../ini/create_profiles.txt\n",
      "102.727092 -7.193938 400.000000 400.000000 39.982619 2 ./../ini/create_profiles.txt\n",
      "102.069200 -6.576154 400.000000 400.000000 44.060749 3 ./../ini/create_profiles.txt\n",
      "101.485762 -5.895142 400.000000 400.000000 56.062353 4 ./../ini/create_profiles.txt\n",
      "100.981659 -5.148806 400.000000 400.000000 56.062353 5 ./../ini/create_profiles.txt\n",
      "100.435749 -4.433603 400.000000 400.000000 51.189388 6 ./../ini/create_profiles.txt\n",
      "99.871355 -3.732278 400.000000 400.000000 52.046981 7 ./../ini/create_profiles.txt\n",
      "99.317502 -3.022986 400.000000 400.000000 52.046981 8 ./../ini/create_profiles.txt\n",
      "98.763969 -2.313727 400.000000 400.000000 52.046981 9 ./../ini/create_profiles.txt\n",
      "98.257054 -1.571587 400.000000 400.000000 57.256067 10 ./../ini/create_profiles.txt\n",
      "97.770589 -0.815124 400.000000 400.000000 57.256067 11 ./../ini/create_profiles.txt\n",
      "97.309660 -0.044471 400.000000 400.000000 64.536767 12 ./../ini/create_profiles.txt\n",
      "96.897838 0.754270 400.000000 400.000000 60.024573 13 ./../ini/create_profiles.txt\n",
      "96.380342 1.477745 400.000000 400.000000 41.520386 14 ./../ini/create_profiles.txt\n",
      "95.701547 2.066059 400.000000 400.000000 24.473816 15 ./../ini/create_profiles.txt\n",
      "94.892984 2.457605 400.000000 400.000000 33.732921 16 ./../ini/create_profiles.txt\n",
      "94.183074 3.000231 400.000000 400.000000 50.034281 17 ./../ini/create_profiles.txt\n",
      "93.609478 3.692878 400.000000 400.000000 61.632148 18 ./../ini/create_profiles.txt\n",
      "93.186311 4.486432 400.000000 400.000000 71.634855 19 ./../ini/create_profiles.txt\n",
      "92.966746 5.350367 400.000000 400.000000 90.000000 20 ./../ini/create_profiles.txt\n"
     ]
    }
   ],
   "source": [
    "!python $path/create_multiple_cross_sections.py ./../ini/create_profiles.txt\n",
    "!mv cs_traces.cs ./../model/cs_traces.txt"
   ]
  },
  {
   "cell_type": "markdown",
   "metadata": {},
   "source": [
    "## 4. Plotting cross sections"
   ]
  },
  {
   "cell_type": "raw",
   "metadata": {},
   "source": [
    "# This method doesn't work since it depends on basemap \n",
    "!python $path/plotting/plot_multiple_cross_sections_map.py ./../ini/create_profiles.txt ./../model/cs_traces.txt"
   ]
  },
  {
   "cell_type": "markdown",
   "metadata": {},
   "source": [
    "## 5. Plot cross-sections"
   ]
  },
  {
   "cell_type": "code",
   "execution_count": 4,
   "metadata": {},
   "outputs": [
    {
     "name": "stdout",
     "output_type": "stream",
     "text": [
      "setting trench axis\n",
      "setting catalogue\n",
      "setting slab\n",
      "Traceback (most recent call last):\n",
      "  File \"/Users/mpagani/Repos/venv/src/oq-mbtk/openquake/sub/plotting/plot_multiple_cross_sections.py\", line 37, in <module>\n",
      "    main(sys.argv[1:])\n",
      "  File \"/Users/mpagani/Repos/venv/src/oq-mbtk/openquake/sub/plotting/plot_multiple_cross_sections.py\", line 28, in main\n",
      "    fig = plt_cs(olo, ola, depth, lnght, strike, ids, ini_fle)\n",
      "  File \"/Users/mpagani/Repos/venv/src/oq-mbtk/openquake/sub/plotting/plot_cross_section.py\", line 581, in plt_cs\n",
      "    csda.set_slab1pt0(fname_slab)\n",
      "  File \"/Users/mpagani/Repos/venv/src/oq-mbtk/openquake/sub/cross_sections.py\", line 223, in set_slab1pt0\n",
      "    self.slab1pt0 = numpy.squeeze(slab1pt0[idxslb, :])\n",
      "IndexError: only integers, slices (`:`), ellipsis (`...`), numpy.newaxis (`None`) and integer or boolean arrays are valid indices\n"
     ]
    }
   ],
   "source": [
    "!python $path/plotting/plot_multiple_cross_sections.py ./../model/cs_traces.txt"
   ]
  },
  {
   "cell_type": "markdown",
   "metadata": {},
   "source": [
    "## 6. Digitize"
   ]
  },
  {
   "cell_type": "code",
   "execution_count": 15,
   "metadata": {},
   "outputs": [
    {
     "name": "stdout",
     "output_type": "stream",
     "text": [
      "Working on cross section: 0\n",
      "setting trench axis\n",
      "setting catalogue\n",
      "setting slab\n",
      "setting crust/moho\n",
      "setting gcmt\n",
      "Parsing catalogue ...\n",
      "complete. Contains 49525 moment tensors\n",
      "setting topo\n",
      "setting litho/moho\n",
      "setting volcano\n",
      "No LITHO1.0...\n",
      "Figure(1000x1025)\n"
     ]
    }
   ],
   "source": [
    "!python $path/plotting/plot_cross_section.py 104.248585 -8.110244 400.000000 400.000000 16.808520 0 ./../ini/create_profiles.txt"
   ]
  },
  {
   "cell_type": "code",
   "execution_count": null,
   "metadata": {},
   "outputs": [],
   "source": []
  }
 ],
 "metadata": {
  "kernelspec": {
   "display_name": "Python 3",
   "language": "python",
   "name": "python3"
  },
  "language_info": {
   "codemirror_mode": {
    "name": "ipython",
    "version": 3
   },
   "file_extension": ".py",
   "mimetype": "text/x-python",
   "name": "python",
   "nbconvert_exporter": "python",
   "pygments_lexer": "ipython3",
   "version": "3.8.2"
  }
 },
 "nbformat": 4,
 "nbformat_minor": 4
}
