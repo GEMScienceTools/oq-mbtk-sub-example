{
 "cells": [
  {
   "cell_type": "markdown",
   "metadata": {},
   "source": [
    "# Datasets and profile preparation using Slab2.0"
   ]
  },
  {
   "cell_type": "code",
   "execution_count": 1,
   "metadata": {},
   "outputs": [
    {
     "name": "stdout",
     "output_type": "stream",
     "text": [
      "/Users/mpagani/Repos/venv/src/oq-mbtk/openquake/sub\n"
     ]
    }
   ],
   "source": [
    "import os\n",
    "import sys\n",
    "import openquake.sub as sub\n",
    "\n",
    "# Get the path of the mbtk subduction module\n",
    "path = sub.__path__[0]\n",
    "\n",
    "print(path)"
   ]
  },
  {
   "cell_type": "markdown",
   "metadata": {},
   "source": [
    "## 1. Pickle the catalogue\n",
    "First we pickle the catalogue, that is, we create a compact representation of this dataset that can be read quickly by python."
   ]
  },
  {
   "cell_type": "code",
   "execution_count": 2,
   "metadata": {},
   "outputs": [],
   "source": [
    "!python $path/pickle_catalogue.py ./../data/catalogue/wpg_catalogue_sumatra.csv\n",
    "!mv catalogue_ext.p ./../data/catalogue/wpg_catalogue_sumatra.p\n",
    "!rm catalogue_ori.p"
   ]
  },
  {
   "cell_type": "markdown",
   "metadata": {},
   "source": [
    "## 2. Create cross-sections"
   ]
  },
  {
   "cell_type": "code",
   "execution_count": 3,
   "metadata": {},
   "outputs": [
    {
     "name": "stdout",
     "output_type": "stream",
     "text": [
      "104.248585 -8.110244 400.000000 400.000000 16.808520 0 ./../ini/create_profiles.txt\n",
      "103.421644 -7.772352 400.000000 400.000000 39.982619 1 ./../ini/create_profiles.txt\n",
      "102.727092 -7.193938 400.000000 400.000000 39.982619 2 ./../ini/create_profiles.txt\n",
      "102.069200 -6.576154 400.000000 400.000000 44.060749 3 ./../ini/create_profiles.txt\n",
      "101.485762 -5.895142 400.000000 400.000000 56.062353 4 ./../ini/create_profiles.txt\n",
      "100.981659 -5.148806 400.000000 400.000000 56.062353 5 ./../ini/create_profiles.txt\n",
      "100.435749 -4.433603 400.000000 400.000000 51.189388 6 ./../ini/create_profiles.txt\n",
      "99.871355 -3.732278 400.000000 400.000000 52.046981 7 ./../ini/create_profiles.txt\n",
      "99.317502 -3.022986 400.000000 400.000000 52.046981 8 ./../ini/create_profiles.txt\n",
      "98.763969 -2.313727 400.000000 400.000000 52.046981 9 ./../ini/create_profiles.txt\n",
      "98.257054 -1.571587 400.000000 400.000000 57.256067 10 ./../ini/create_profiles.txt\n",
      "97.770589 -0.815124 400.000000 400.000000 57.256067 11 ./../ini/create_profiles.txt\n",
      "97.309660 -0.044471 400.000000 400.000000 64.536767 12 ./../ini/create_profiles.txt\n",
      "96.897838 0.754270 400.000000 400.000000 60.024573 13 ./../ini/create_profiles.txt\n",
      "96.380342 1.477745 400.000000 400.000000 41.520386 14 ./../ini/create_profiles.txt\n",
      "95.701547 2.066059 400.000000 400.000000 24.473816 15 ./../ini/create_profiles.txt\n",
      "94.892984 2.457605 400.000000 400.000000 33.732921 16 ./../ini/create_profiles.txt\n",
      "94.183074 3.000231 400.000000 400.000000 50.034281 17 ./../ini/create_profiles.txt\n",
      "93.609478 3.692878 400.000000 400.000000 61.632148 18 ./../ini/create_profiles.txt\n",
      "93.186311 4.486432 400.000000 400.000000 71.634855 19 ./../ini/create_profiles.txt\n",
      "92.966746 5.350367 400.000000 400.000000 90.000000 20 ./../ini/create_profiles.txt\n",
      "mkdir: ./../model: File exists\n"
     ]
    }
   ],
   "source": [
    "!python $path/create_multiple_cross_sections.py ./../ini/create_profiles.txt\n",
    "!mkdir ./../model\n",
    "!mv cs_traces.cs ./../model/cs_traces.txt"
   ]
  },
  {
   "cell_type": "markdown",
   "metadata": {},
   "source": [
    "## 3. Calculate profiles"
   ]
  },
  {
   "cell_type": "code",
   "execution_count": 4,
   "metadata": {},
   "outputs": [],
   "source": [
    "fname_sl = './../data/subduction/sum_slab2_dep_02.23.18.xyz'\n",
    "fout = './../model/profiles/'\n",
    "fname_cs = './../model/cs_traces.txt'"
   ]
  },
  {
   "cell_type": "code",
   "execution_count": 5,
   "metadata": {},
   "outputs": [],
   "source": [
    "!oqm sub create_sections_from_slab $fname_sl $fout $fname_cs"
   ]
  },
  {
   "cell_type": "markdown",
   "metadata": {},
   "source": [
    "## 4. Create the profiles and edges definining the top of the inslab "
   ]
  },
  {
   "cell_type": "code",
   "execution_count": 9,
   "metadata": {},
   "outputs": [],
   "source": [
    "sampling=10.0\n",
    "uppdep=40\n",
    "lowdep=300\n",
    "in_folder='./../model/profiles/'\n",
    "out_folder='./../model/surfaces/sum'"
   ]
  },
  {
   "cell_type": "code",
   "execution_count": 10,
   "metadata": {},
   "outputs": [
    {
     "name": "stdout",
     "output_type": "stream",
     "text": [
      "sub build_complex_surface ./../model/profiles/ 10.0 ./../model/surfaces/sum 40 300\n",
      "INFO:root:Number of profiles: 21\n",
      "INFO:root:Longest profile (id: 006): 361.680132\n",
      "INFO:root:Shortest profile (id: 001): 258.342717\n",
      "INFO:root:Depth min: 40.00\n",
      "INFO:root:Depth max: 300.00\n",
      "INFO:root:Number of subsegments for each profile: 37\n",
      "INFO:root:Shortest sampling [001]: 6.9822\n",
      "INFO:root:Longest sampling  [006]: 9.7751\n"
     ]
    }
   ],
   "source": [
    "!oqm sub build_complex_surface $in_folder $sampling $out_folder $uppdep $lowdep"
   ]
  },
  {
   "cell_type": "markdown",
   "metadata": {},
   "source": [
    "## 5. Plotting\n",
    "\n",
    "Now we create a .geojson file containing the profiles and edges which can be visualized with a GIS."
   ]
  },
  {
   "cell_type": "code",
   "execution_count": 11,
   "metadata": {},
   "outputs": [],
   "source": [
    "pattern = './../model/profiles/cs*.csv'\n",
    "output = './../output/geojson/profiles.geojson'"
   ]
  },
  {
   "cell_type": "code",
   "execution_count": 13,
   "metadata": {},
   "outputs": [
    {
     "name": "stdout",
     "output_type": "stream",
     "text": [
      "./../model/profiles/cs*.csv\n",
      "./../model/profiles/cs_006.csv\n",
      "./../model/profiles/cs_012.csv\n",
      "./../model/profiles/cs_013.csv\n",
      "./../model/profiles/cs_007.csv\n",
      "./../model/profiles/cs_011.csv\n",
      "./../model/profiles/cs_005.csv\n",
      "./../model/profiles/cs_004.csv\n",
      "./../model/profiles/cs_010.csv\n",
      "./../model/profiles/cs_014.csv\n",
      "./../model/profiles/cs_000.csv\n",
      "./../model/profiles/cs_001.csv\n",
      "./../model/profiles/cs_015.csv\n",
      "./../model/profiles/cs_003.csv\n",
      "./../model/profiles/cs_017.csv\n",
      "./../model/profiles/cs_016.csv\n",
      "./../model/profiles/cs_002.csv\n",
      "./../model/profiles/cs_018.csv\n",
      "./../model/profiles/cs_019.csv\n",
      "./../model/profiles/cs_009.csv\n",
      "./../model/profiles/cs_008.csv\n",
      "./../model/profiles/cs_020.csv\n"
     ]
    }
   ],
   "source": [
    "!oqm sub geojson_from_profiles \"$pattern\" $output"
   ]
  },
  {
   "cell_type": "code",
   "execution_count": 14,
   "metadata": {},
   "outputs": [],
   "source": [
    "import json\n",
    "from ipyleaflet import Map, GeoJSON"
   ]
  },
  {
   "cell_type": "code",
   "execution_count": 15,
   "metadata": {},
   "outputs": [
    {
     "data": {
      "application/vnd.jupyter.widget-view+json": {
       "model_id": "407c928cf3f44dff84e91173eb22edd5",
       "version_major": 2,
       "version_minor": 0
      },
      "text/plain": [
       "Map(center=[0.0, 100.0], controls=(ZoomControl(options=['position', 'zoom_in_text', 'zoom_in_title', 'zoom_out…"
      ]
     },
     "metadata": {},
     "output_type": "display_data"
    }
   ],
   "source": [
    "with open(output, 'r') as f:\n",
    "    data = json.load(f)\n",
    "geo_json = GeoJSON(data=data, style={'opacity': 1, 'dashArray': '2', 'fillOpacity': 0.1, 'weight': 1})\n",
    "m = Map(center=(0.0, 100.0), zoom=5)\n",
    "m.add_layer(geo_json)\n",
    "m"
   ]
  },
  {
   "cell_type": "code",
   "execution_count": null,
   "metadata": {},
   "outputs": [],
   "source": []
  }
 ],
 "metadata": {
  "kernelspec": {
   "display_name": "Python 3",
   "language": "python",
   "name": "python3"
  },
  "language_info": {
   "codemirror_mode": {
    "name": "ipython",
    "version": 3
   },
   "file_extension": ".py",
   "mimetype": "text/x-python",
   "name": "python",
   "nbconvert_exporter": "python",
   "pygments_lexer": "ipython3",
   "version": "3.8.2"
  }
 },
 "nbformat": 4,
 "nbformat_minor": 4
}
